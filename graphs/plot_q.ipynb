{
 "cells": [
  {
   "cell_type": "code",
   "execution_count": 83,
   "metadata": {},
   "outputs": [
    {
     "data": {
      "text/plain": [
       "101"
      ]
     },
     "execution_count": 83,
     "metadata": {},
     "output_type": "execute_result"
    }
   ],
   "source": [
    "import json\n",
    "import os\n",
    "import plotly.express as px\n",
    "\n",
    "files= os.listdir(\"../data/qvalues/\")\n",
    "data_list= []\n",
    "\n",
    "for file in files:\n",
    "    with open(\"../data/qvalues/\"+file) as f:\n",
    "        data= json.load(f)\n",
    "        data_list.append(data)\n",
    "len(data_list)"
   ]
  },
  {
   "cell_type": "code",
   "execution_count": 84,
   "metadata": {},
   "outputs": [
    {
     "data": {
      "text/html": [
       "<div>\n",
       "<style scoped>\n",
       "    .dataframe tbody tr th:only-of-type {\n",
       "        vertical-align: middle;\n",
       "    }\n",
       "\n",
       "    .dataframe tbody tr th {\n",
       "        vertical-align: top;\n",
       "    }\n",
       "\n",
       "    .dataframe thead th {\n",
       "        text-align: right;\n",
       "    }\n",
       "</style>\n",
       "<table border=\"1\" class=\"dataframe\">\n",
       "  <thead>\n",
       "    <tr style=\"text-align: right;\">\n",
       "      <th></th>\n",
       "      <th>x</th>\n",
       "      <th>y</th>\n",
       "      <th>vel</th>\n",
       "      <th>iteration</th>\n",
       "      <th>flap</th>\n",
       "      <th>qvalue</th>\n",
       "    </tr>\n",
       "  </thead>\n",
       "  <tbody>\n",
       "    <tr>\n",
       "      <th>0</th>\n",
       "      <td>-40</td>\n",
       "      <td>-300</td>\n",
       "      <td>-10</td>\n",
       "      <td>0</td>\n",
       "      <td>no-flap</td>\n",
       "      <td>0.0</td>\n",
       "    </tr>\n",
       "    <tr>\n",
       "      <th>1</th>\n",
       "      <td>-40</td>\n",
       "      <td>-300</td>\n",
       "      <td>-9</td>\n",
       "      <td>0</td>\n",
       "      <td>no-flap</td>\n",
       "      <td>0.0</td>\n",
       "    </tr>\n",
       "    <tr>\n",
       "      <th>2</th>\n",
       "      <td>-40</td>\n",
       "      <td>-300</td>\n",
       "      <td>-8</td>\n",
       "      <td>0</td>\n",
       "      <td>no-flap</td>\n",
       "      <td>0.0</td>\n",
       "    </tr>\n",
       "    <tr>\n",
       "      <th>3</th>\n",
       "      <td>-40</td>\n",
       "      <td>-300</td>\n",
       "      <td>-7</td>\n",
       "      <td>0</td>\n",
       "      <td>no-flap</td>\n",
       "      <td>0.0</td>\n",
       "    </tr>\n",
       "    <tr>\n",
       "      <th>4</th>\n",
       "      <td>-40</td>\n",
       "      <td>-300</td>\n",
       "      <td>-6</td>\n",
       "      <td>0</td>\n",
       "      <td>no-flap</td>\n",
       "      <td>0.0</td>\n",
       "    </tr>\n",
       "    <tr>\n",
       "      <th>...</th>\n",
       "      <td>...</td>\n",
       "      <td>...</td>\n",
       "      <td>...</td>\n",
       "      <td>...</td>\n",
       "      <td>...</td>\n",
       "      <td>...</td>\n",
       "    </tr>\n",
       "    <tr>\n",
       "      <th>5170993</th>\n",
       "      <td>420</td>\n",
       "      <td>420</td>\n",
       "      <td>6</td>\n",
       "      <td>100</td>\n",
       "      <td>flap</td>\n",
       "      <td>0.0</td>\n",
       "    </tr>\n",
       "    <tr>\n",
       "      <th>5170994</th>\n",
       "      <td>420</td>\n",
       "      <td>420</td>\n",
       "      <td>7</td>\n",
       "      <td>100</td>\n",
       "      <td>flap</td>\n",
       "      <td>0.0</td>\n",
       "    </tr>\n",
       "    <tr>\n",
       "      <th>5170995</th>\n",
       "      <td>420</td>\n",
       "      <td>420</td>\n",
       "      <td>8</td>\n",
       "      <td>100</td>\n",
       "      <td>flap</td>\n",
       "      <td>0.0</td>\n",
       "    </tr>\n",
       "    <tr>\n",
       "      <th>5170996</th>\n",
       "      <td>420</td>\n",
       "      <td>420</td>\n",
       "      <td>9</td>\n",
       "      <td>100</td>\n",
       "      <td>flap</td>\n",
       "      <td>0.0</td>\n",
       "    </tr>\n",
       "    <tr>\n",
       "      <th>5170997</th>\n",
       "      <td>420</td>\n",
       "      <td>420</td>\n",
       "      <td>10</td>\n",
       "      <td>100</td>\n",
       "      <td>flap</td>\n",
       "      <td>0.0</td>\n",
       "    </tr>\n",
       "  </tbody>\n",
       "</table>\n",
       "<p>5170998 rows × 6 columns</p>\n",
       "</div>"
      ],
      "text/plain": [
       "           x     y  vel iteration     flap  qvalue\n",
       "0        -40  -300  -10         0  no-flap     0.0\n",
       "1        -40  -300   -9         0  no-flap     0.0\n",
       "2        -40  -300   -8         0  no-flap     0.0\n",
       "3        -40  -300   -7         0  no-flap     0.0\n",
       "4        -40  -300   -6         0  no-flap     0.0\n",
       "...      ...   ...  ...       ...      ...     ...\n",
       "5170993  420   420    6       100     flap     0.0\n",
       "5170994  420   420    7       100     flap     0.0\n",
       "5170995  420   420    8       100     flap     0.0\n",
       "5170996  420   420    9       100     flap     0.0\n",
       "5170997  420   420   10       100     flap     0.0\n",
       "\n",
       "[5170998 rows x 6 columns]"
      ]
     },
     "execution_count": 84,
     "metadata": {},
     "output_type": "execute_result"
    }
   ],
   "source": [
    "#dict to pandas\n",
    "import pandas as pd\n",
    "\n",
    "df= pd.DataFrame(data_list)\n",
    "df= df.T.reset_index()\n",
    "df[[\"x\", \"y\", \"vel\"]]= df[\"index\"].str.split(\"_\", expand= True) \n",
    "df= df.drop(columns= \"index\")\n",
    "df= df.melt(id_vars= [\"x\", \"y\", \"vel\"], var_name= \"iteration\")\n",
    "df[['no-flap', 'flap']] = pd.DataFrame(df['value'].tolist(), index=df.index)\n",
    "df = df.drop(columns='value')\n",
    "df= df.rename(columns={0:\"no-flap\", 1:\"flap\"} )\n",
    "df= df.melt(id_vars= [\"x\", \"y\", \"vel\", \"iteration\"], var_name= \"flap\", value_name= \"qvalue\")\n",
    "df"
   ]
  },
  {
   "cell_type": "code",
   "execution_count": 85,
   "metadata": {},
   "outputs": [
    {
     "data": {
      "text/plain": [
       "x             object\n",
       "y             object\n",
       "vel           object\n",
       "iteration     object\n",
       "flap          object\n",
       "qvalue       float64\n",
       "dtype: object"
      ]
     },
     "execution_count": 85,
     "metadata": {},
     "output_type": "execute_result"
    }
   ],
   "source": [
    "df.dtypes"
   ]
  },
  {
   "cell_type": "code",
   "execution_count": 86,
   "metadata": {},
   "outputs": [],
   "source": [
    "df[\"x\"]= df[\"x\"].astype(int)\n",
    "df[\"y\"]= df[\"y\"].astype(int)\n",
    "df[\"vel\"]= df[\"vel\"].astype(int)\n",
    "df[\"iteration\"]= df[\"iteration\"].astype(int)*100"
   ]
  },
  {
   "cell_type": "code",
   "execution_count": 103,
   "metadata": {},
   "outputs": [],
   "source": [
    "velocity= 0\n",
    "df_plot= df[(df[\"vel\"]==velocity) & (df[\"y\"]<200)].copy()\n",
    "fig= px.scatter(df_plot, x=\"x\", y=\"y\", color=\"qvalue\", animation_frame=\"iteration\", height=800, \n",
    "            facet_col=\"flap\",\n",
    "            color_continuous_scale= px.colors.diverging.Temps_r,\n",
    "            color_continuous_midpoint=0,\n",
    "            title=\"Q-values for velocity= \"+str(velocity))\n",
    "fig.write_html(f\"qvalues_vel{velocity}/index.html\")"
   ]
  },
  {
   "cell_type": "code",
   "execution_count": null,
   "metadata": {},
   "outputs": [],
   "source": []
  }
 ],
 "metadata": {
  "kernelspec": {
   "display_name": ".venv",
   "language": "python",
   "name": "python3"
  },
  "language_info": {
   "codemirror_mode": {
    "name": "ipython",
    "version": 3
   },
   "file_extension": ".py",
   "mimetype": "text/x-python",
   "name": "python",
   "nbconvert_exporter": "python",
   "pygments_lexer": "ipython3",
   "version": "3.9.13"
  }
 },
 "nbformat": 4,
 "nbformat_minor": 2
}
